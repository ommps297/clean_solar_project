{
 "cells": [
  {
   "cell_type": "markdown",
   "id": "e2e3e14e",
   "metadata": {},
   "source": [
    "# Solar Panels Dust Detection - Clean Training Notebook\n",
    "\n",
    "This notebook is a lightweight launcher that runs `train.py` (the real training script).\n",
    "**Why?** The original repository contained ipynb files that were broken due to Git LFS pointers.\n",
    "This package gives you:\n",
    "- `train.py` — a clean transfer-learning training script (MobileNetV2)\n",
    "- `requirements.txt`\n",
    "- A small launcher notebook (this file) that runs the training script for convenience\n",
    "\n",
    "**Before you run:**\n",
    "1. Prepare your dataset folder structure:\n",
    "```\n",
    "data/\n",
    "  train/\n",
    "    clean/   <-- images of clean panels\n",
    "    dusty/   <-- images of dusty panels\n",
    "  val/    (optional)\n",
    "    clean/\n",
    "    dusty/\n",
    "```\n",
    "2. Open Anaconda Prompt, create env and install dependencies:\n",
    "```\n",
    "conda create -n solar python=3.9 -y\n",
    "conda activate solar\n",
    "pip install -r requirements.txt\n",
    "```\n",
    "3. Run this notebook cell to start training (or run `python train.py ...` directly).\n",
    "You can pass flags to `train.py` such as --epochs and --batch_size.\n"
   ]
  },
  {
   "cell_type": "code",
   "execution_count": null,
   "id": "3741ba94",
   "metadata": {},
   "outputs": [],
   "source": [
    "## Run training (this will execute the training script)\n",
    "\n",
    "You can adjust the command below. By default it runs 10 epochs.\n",
    "\n",
    "```python\n",
    "# Example: run with 10 epochs\n",
    "!python train.py --epochs 10 --batch_size 32\n",
    "```"
   ]
  }
 ],
 "metadata": {},
 "nbformat": 4,
 "nbformat_minor": 5
}
